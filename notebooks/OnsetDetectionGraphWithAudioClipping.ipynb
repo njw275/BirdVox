{
 "cells": [
  {
   "cell_type": "code",
   "execution_count": 6,
   "metadata": {},
   "outputs": [
    {
     "name": "stderr",
     "output_type": "stream",
     "text": [
      "WARNING:root:output_file: /Users/nicholaswhite/data/False_Positives/unit01_S_39165_E_39225_fp_39193.5605442.wav already exists and will be overwritten on build\n",
      "WARNING:root:output_file: /Users/nicholaswhite/data/False_Positives/unit01_S_39165_E_39225_fp_39192.5969161.wav already exists and will be overwritten on build\n",
      "WARNING:root:output_file: /Users/nicholaswhite/data/False_Positives/unit01_S_39165_E_39225_fp_39201.2579592.wav already exists and will be overwritten on build\n"
     ]
    },
    {
     "name": "stdout",
     "output_type": "stream",
     "text": [
      "Working with file: /Users/nicholaswhite/data/01_S_39165_E_39225.txt\n",
      "*-----------------------------------------*\n",
      "Actual onset at time: 39173.4\n",
      "Actual onset at time: 39174.788545\n",
      "Actual onset at time: 39186.114252\n",
      "Actual onset at time: 39190.575\n",
      "Actual onset at time: 39190.9394722\n",
      "Actual onset at time: 39205.068\n",
      "Actual onset at time: 39208.548\n",
      "Actual onset at time: 39209.045\n",
      "Actual onset at time: 39209.321\n",
      "Actual onset at time: 39209.766\n",
      "Actual onset at time: 39210.293\n",
      "Actual onset at time: 39210.647\n",
      "Actual onset at time: 39211.134\n",
      "Actual onset at time: 39211.4979014\n",
      "Actual onset at time: 39211.5679946\n",
      "Actual onset at time: 39212.18\n",
      "Actual onset at time: 39212.3292075\n",
      "Actual onset at time: 39212.9726636\n",
      "Actual onset at time: 39213.021\n",
      "Actual onset at time: 39214.0899502\n",
      "Actual onset at time: 39215.315\n",
      "Actual onset at time: 39215.695\n",
      "Actual onset at time: 39218.953\n",
      "*-----------------------------------------*\n",
      "Highest peak number 0 is: 39193.5605442 0.773804870564\n",
      "Highest peak number 1 is: 39192.5969161 0.773326458708\n",
      "Highest peak number 2 is: 39201.2579592 0.771559999255\n",
      "Highest peak number 3 is: 39216.5599093 0.761506242161"
     ]
    },
    {
     "name": "stderr",
     "output_type": "stream",
     "text": [
      "WARNING:root:output_file: /Users/nicholaswhite/data/False_Positives/unit01_S_39165_E_39225_fp_39216.5599093.wav already exists and will be overwritten on build\n",
      "WARNING:root:output_file: /Users/nicholaswhite/data/False_Positives/unit01_S_39165_E_39225_fp_39192.7362358.wav already exists and will be overwritten on build\n",
      "WARNING:root:output_file: /Users/nicholaswhite/data/False_Positives/unit01_S_39165_E_39225_fp_39195.9057596.wav already exists and will be overwritten on build\n",
      "WARNING:root:output_file: /Users/nicholaswhite/data/False_Positives/unit01_S_39165_E_39225_fp_39217.4887075.wav already exists and will be overwritten on build\n",
      "WARNING:root:output_file: /Users/nicholaswhite/data/False_Positives/unit01_S_39165_E_39225_fp_39188.2083447.wav already exists and will be overwritten on build\n",
      "WARNING:root:output_file: /Users/nicholaswhite/data/False_Positives/unit01_S_39165_E_39225_fp_39220.9368707.wav already exists and will be overwritten on build\n",
      "WARNING:root:output_file: /Users/nicholaswhite/data/False_Positives/unit01_S_39165_E_39225_fp_39171.5828571.wav already exists and will be overwritten on build\n",
      "WARNING:root:output_file: /Users/nicholaswhite/data/False_Positives/unit01_S_39165_E_39225_concat_fp.wav already exists and will be overwritten on build\n",
      "WARNING:root:Input formats were only specified for 0 out of 19 files.The last 19 files will remain unformatted.\n"
     ]
    },
    {
     "name": "stdout",
     "output_type": "stream",
     "text": [
      "\n",
      "Highest peak number 4 is: 39192.7362358 0.760388506152\n",
      "Highest peak number 5 is: 39195.9057596 0.754788501126\n",
      "Highest peak number 6 is: 39217.4887075 0.750828830746\n",
      "Highest peak number 7 is: 39188.2083447 0.750217174969\n",
      "Highest peak number 8 is: 39220.9368707 0.737263557507\n",
      "Highest peak number 9 is: 39171.5828571 0.730247596839\n"
     ]
    },
    {
     "data": {
      "image/png": "[encoded data removed]",
      "text/plain": [
       "<matplotlib.figure.Figure at 0x1181105f8>"
      ]
     },
     "metadata": {},
     "output_type": "display_data"
    }
   ],
   "source": [
    "import librosa\n",
    "import librosa.display\n",
    "import matplotlib.pyplot as plt\n",
    "import numpy as np\n",
    "from operator import itemgetter\n",
    "import sox\n",
    "\n",
    "import DetectionEvalSourceCode as det\n",
    "import Paths as p\n",
    "\n",
    "duration_length = 605\n",
    "ymin = 0\n",
    "ymax = 2\n",
    "unit = 1\n",
    "start_time = 39165\n",
    "end_time = 39225\n",
    "fmin_input = 1500\n",
    "h_length = 256\n",
    "sr = 22050\n",
    "h_duration = h_length / sr\n",
    "feature_input = librosa.stft\n",
    "\n",
    "index = []\n",
    "peaksClean = []\n",
    "indexClean = []\n",
    "test_fmeasures = []\n",
    "trueOnsets = []\n",
    "peaksSorted = []\n",
    "outputFiles = []\n",
    "\n",
    "cbn = sox.Combiner()\n",
    "\n",
    "\n",
    "checkFile = p.get_peaks(unit) + \"01_S_\" + str(start_time) + \"_E_\" + str(end_time) + \"_detections.npy\"\n",
    "checkFilePeaks = p.get_peaks(unit) + \"01_S_\" + str(start_time) + \"_E_\" + str(end_time) + \"_peaks.npy\"\n",
    "\n",
    "file = p.get_data() + str(unit).zfill(2) + \"_S_\" + str(start_time) + \"_E_\" + str(end_time) + \".txt\"\n",
    "\n",
    "\n",
    "# TRUE ONSETS \n",
    "# Below are the true onsets, which are represented in the graph as vertical lines\n",
    "\n",
    "print(\"Working with file: \" + file)\n",
    "\n",
    "print(\"*-----------------------------------------*\")\n",
    "\n",
    "with open(file, \"r\") as text_file:\n",
    "    for i in text_file:\n",
    "        i = i.strip('\\n')\n",
    "        trueOnsets.append(i)\n",
    "\n",
    "\n",
    "for x in trueOnsets:\n",
    "    x = float(x)\n",
    "    plt.vlines(x, ymin, ymax, colors='k', linestyles='solid', label='')\n",
    "    print(\"Actual onset at time: \" + str(x))\n",
    "\n",
    "    \n",
    "\n",
    "# PEAKS FROM DETECTIONS\n",
    "# Below are the peaks from the peak picking function, which are represented in the graph as red squares\n",
    "\n",
    "peaks = np.load(checkFilePeaks)\n",
    "\n",
    "print(\"*-----------------------------------------*\")\n",
    "\n",
    "threshold = 0.5\n",
    "for i in peaks:\n",
    "    if i[0] > threshold:\n",
    "        #dont want to plot points so you can see just the top 10 highest\n",
    "        continue\n",
    "        #uncomment next line to plot all peaks\n",
    "        #plt.plot(i[1]+start_time,i[0],'rs',alpha=0.5)\n",
    "\n",
    "\n",
    "#SORTING FOR TOP 10 HIGHEST ESTIMATED ONSET PEAKS\n",
    "#sort by the first item in each array\n",
    "peaks = sorted(peaks,key=itemgetter(0))\n",
    "#reverse the list to have the highest 10 peaks first\n",
    "peaksSorted = list(reversed(peaks))\n",
    "\n",
    "for peak in range(10):\n",
    "    plt.plot(peaksSorted[peak][1]+start_time,peaksSorted[peak][0],'gs',alpha=0.5)\n",
    "    print(\"Highest peak number \" + str(peak) + \" is: \"+ str(peaksSorted[peak][1]+start_time) + \" \" + str(peaksSorted[peak][0]))\n",
    "    tfm = sox.Transformer()\n",
    "    s_trim = (peaksSorted[peak][1]+start_time) - 1\n",
    "    e_trim = (peaksSorted[peak][1]+start_time) + 1\n",
    "    tfm.trim(s_trim, e_trim)\n",
    "    outputFile =  p.get_false_positives() + \"unit\" + str(unit).zfill(2) + \"_S_\" + str(start_time) + \"_E_\" + str(end_time) + \"_fp_\" + str(peaksSorted[peak][1]+start_time) +\".wav\"\n",
    "    tfm.build(p.get_unit_recordings() + str(unit).zfill(2) + \".flac\",outputFile)\n",
    "    outputFiles.append(outputFile)\n",
    "    outputFiles.append(p.get_data() + \"next.wav\")\n",
    "\n",
    "\n",
    "outputFiles = outputFiles[:-1]\n",
    "cbn.build(outputFiles, p.get_false_positives() + \"unit\" + str(unit).zfill(2) + \"_S_\" + str(start_time) + \"_E_\" + str(end_time) + \"_concat_fp.wav\" , 'concatenate')\n",
    "\n",
    "\n",
    "plt.show()"
   ]
  },
  {
   "cell_type": "code",
   "execution_count": null,
   "metadata": {
    "collapsed": true
   },
   "outputs": [],
   "source": []
  }
 ],
 "metadata": {
  "kernelspec": {
   "display_name": "Python 3",
   "language": "python",
   "name": "python3"
  },
  "language_info": {
   "codemirror_mode": {
    "name": "ipython",
    "version": 3
   },
   "file_extension": ".py",
   "mimetype": "text/x-python",
   "name": "python",
   "nbconvert_exporter": "python",
   "pygments_lexer": "ipython3",
   "version": "3.6.1"
  }
 },
 "nbformat": 4,
 "nbformat_minor": 2
}
