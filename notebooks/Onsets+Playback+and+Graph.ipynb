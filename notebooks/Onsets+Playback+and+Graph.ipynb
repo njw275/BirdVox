{
 "cells": [
  {
   "cell_type": "code",
   "execution_count": 104,
   "metadata": {
    "scrolled": true
   },
   "outputs": [
    {
     "name": "stdout",
     "output_type": "stream",
     "text": [
      "Steps: [1, 2, 3, 4, 5, 6, 7, 8]\n",
      "Y Vals: [ 1  5  3 13  9 16 20 15]\n",
      "Index: [4, 7]\n",
      "Peaks: [13.0, 20.0]\n"
     ]
    },
    {
     "data": {
      "image/png": "[encoded data removed]",
      "text/plain": [
       "<matplotlib.figure.Figure at 0x11f0dfe10>"
      ]
     },
     "metadata": {},
     "output_type": "display_data"
    }
   ],
   "source": [
    "import numpy as np\n",
    "import Paths as p\n",
    "import numpy as np\n",
    "import matplotlib.pyplot as plt\n",
    "import DetectionEvalSourceCode as det\n",
    "\n",
    "ymin = 0\n",
    "ymax = 25\n",
    "unit  = 1\n",
    "start_time = 0 \n",
    "h_length = 256\n",
    "sr = 22050\n",
    "hop_duration = h_length / sr\n",
    "steps = [1, 2, 3, 4, 5, 6, 7, 8]\n",
    "index = []\n",
    "peaksClean = []\n",
    "indexClean = []\n",
    "trueOnsets = []\n",
    "start_time = 0\n",
    "\n",
    "det.peak_picking(unit, start_time, hop_duration)\n",
    "\n",
    "checkFile = p.get_peaks(unit) + \"01_S_0_E_605_detections.npy\"\n",
    "checkFilePeaks = p.get_peaks(unit) + \"01_S_0_E_605_peaks.npy\"\n",
    "\n",
    "\n",
    "with open(p.get_data() + str(unit).zfill(2) + \"_S_\" + str(start_time) + \"_E_\" + str(start_time+605) + \".txt\", \"r\") as text_file:\n",
    "    for i in text_file:\n",
    "        i = i.strip('\\n')\n",
    "        trueOnsets.append(i)\n",
    "\n",
    "\n",
    "\n",
    "\n",
    "y_vals = np.array([1,5,3,13,9,16,20,15]) #np.load(checkFile)\n",
    "\n",
    "#plt.plot(t, t, 'r--', t, t**2, 'bs', t, t**3, 'g^')\n",
    "    \n",
    "peaks = np.load(checkFilePeaks)\n",
    "\n",
    "for i in peaks:\n",
    "    peaksClean.append(i[0])\n",
    "\n",
    "for i in y_vals:\n",
    "    if i in peaks:\n",
    "        #add the index of i to array \"Index\"\n",
    "        index.append(np.where(y_vals==i))\n",
    "        #index = np.where(y_vals==i)\n",
    "\n",
    "for i in index:\n",
    "    indexClean.append(steps[i[0][0]])\n",
    "\n",
    "\n",
    "print(\"Steps: \"+ str(steps))\n",
    "print(\"Y Vals: \"+ str(y_vals))  \n",
    "print(\"Index: \"+ str(indexClean))\n",
    "print(\"Peaks: \"+ str(peaksClean))  \n",
    "\n",
    "plt.plot(steps,y_vals,'b',indexClean,peaksClean,'rs',alpha=0.5)\n",
    "\n",
    "for x in trueOnsets:\n",
    "    x = int(x)\n",
    "    plt.vlines(x, ymin, ymax, colors='k', linestyles='solid', label='')\n",
    "    \n",
    "plt.show()\n",
    "\n",
    "#plt.plot(index,peaksClean,'rs')\n",
    "#plt.show()\n"
   ]
  }
 ],
 "metadata": {
  "kernelspec": {
   "display_name": "Python 3",
   "language": "python",
   "name": "python3"
  },
  "language_info": {
   "codemirror_mode": {
    "name": "ipython",
    "version": 3
   },
   "file_extension": ".py",
   "mimetype": "text/x-python",
   "name": "python",
   "nbconvert_exporter": "python",
   "pygments_lexer": "ipython3",
   "version": "3.6.1"
  }
 },
 "nbformat": 4,
 "nbformat_minor": 2
}
